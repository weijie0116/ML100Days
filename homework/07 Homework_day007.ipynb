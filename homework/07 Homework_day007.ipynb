{
 "cells": [
  {
   "cell_type": "markdown",
   "metadata": {
    "colab_type": "text",
    "id": "P6xk2_jLsvFF"
   },
   "source": [
    "# [作業目標]\n",
    "\n",
    "1. 請比較對一個 100 x 100 * 100 的陣列，使用不同方法對每一個元素 +1 的時間比較。\n",
    "\n",
    "2. 如何從一個陣列中，找出出現頻率最高的數值與位置？\n",
    "\n",
    "3. 如何利用 list(...) 實現 a.tolist() 的效果？試著用程式實作。\n"
   ]
  },
  {
   "cell_type": "markdown",
   "metadata": {
    "colab_type": "text",
    "id": "uXGll28asvFS"
   },
   "source": [
    "# 作業 "
   ]
  },
  {
   "cell_type": "markdown",
   "metadata": {},
   "source": [
    "### 1. 請比較對一個 1000 x 100 x 100 的陣列，使用不同方法對每一個元素 +1 的時間比較。\n",
    "\n",
    "\n"
   ]
  },
  {
   "cell_type": "code",
   "execution_count": 1,
   "metadata": {},
   "outputs": [],
   "source": [
    "# 記得先 Import 正確的套件\n",
    "\n",
    "import numpy as np"
   ]
  },
  {
   "cell_type": "code",
   "execution_count": 2,
   "metadata": {
    "colab": {},
    "colab_type": "code",
    "id": "5QrYoyNWsvFS"
   },
   "outputs": [],
   "source": [
    "Z = np.random.randint(0, 10, 1000000).reshape(100, 100, 100)"
   ]
  },
  {
   "cell_type": "code",
   "execution_count": 3,
   "metadata": {},
   "outputs": [
    {
     "name": "stdout",
     "output_type": "stream",
     "text": [
      "28.6 ns ± 13.6 ns per loop (mean ± std. dev. of 7 runs, 10 loops each)\n"
     ]
    },
    {
     "data": {
      "text/plain": [
       "'\\nYour Code\\n'"
      ]
     },
     "execution_count": 3,
     "metadata": {},
     "output_type": "execute_result"
    }
   ],
   "source": [
    "%timeit -n 10 a = 2\n",
    "\n",
    "Z + 1\n"
   ]
  },
  {
   "cell_type": "code",
   "execution_count": 10,
   "metadata": {},
   "outputs": [
    {
     "name": "stdout",
     "output_type": "stream",
     "text": [
      "30 ns ± 9.26 ns per loop (mean ± std. dev. of 7 runs, 10 loops each)\n"
     ]
    }
   ],
   "source": [
    "%timeit -n 10 a = 2\n",
    "\n",
    "Z1=[]\n",
    "for row in Z.flatten():\n",
    "    Z1.append(row+1)\n",
    "    \n",
    "#print(np.array(Z1).reshape(100,100,100))\n",
    "\n"
   ]
  },
  {
   "cell_type": "code",
   "execution_count": 12,
   "metadata": {},
   "outputs": [
    {
     "name": "stdout",
     "output_type": "stream",
     "text": [
      "30 ns ± 9.26 ns per loop (mean ± std. dev. of 7 runs, 10 loops each)\n",
      "[[[ 7  4  9 ...  3  5  7]\n",
      "  [ 7  6  8 ...  2  3  4]\n",
      "  [10  6  8 ...  4  3  3]\n",
      "  ...\n",
      "  [ 8 10  1 ...  6  9  7]\n",
      "  [ 7  6  7 ...  6  8  4]\n",
      "  [ 7  1 10 ...  7  6  7]]\n",
      "\n",
      " [[ 4  3  9 ...  4  9  7]\n",
      "  [ 9 10  1 ...  2 10  5]\n",
      "  [ 1  4  6 ...  6 10  4]\n",
      "  ...\n",
      "  [ 1  5  5 ...  2  1  9]\n",
      "  [ 7  6  6 ...  4  6  5]\n",
      "  [10  8  1 ...  4  2  8]]\n",
      "\n",
      " [[ 6  1  4 ...  6  6 10]\n",
      "  [ 3  4  9 ...  2  2  7]\n",
      "  [ 7  7  5 ...  7  8  7]\n",
      "  ...\n",
      "  [ 7  5  1 ...  3  4  5]\n",
      "  [ 3  3  3 ...  6  8 10]\n",
      "  [ 9  6 10 ...  1  7  3]]\n",
      "\n",
      " ...\n",
      "\n",
      " [[ 5  9  8 ...  2  2 10]\n",
      "  [ 6  9  3 ...  9  9  5]\n",
      "  [ 4  3  9 ...  9  3  7]\n",
      "  ...\n",
      "  [ 7  4 10 ...  2  7  9]\n",
      "  [ 5  9  7 ...  6  3  5]\n",
      "  [ 3  5  6 ...  8  1  4]]\n",
      "\n",
      " [[ 3 10  6 ...  8  5  5]\n",
      "  [10  2  8 ...  7  9  7]\n",
      "  [ 2 10  7 ...  9  5  5]\n",
      "  ...\n",
      "  [ 9  6  4 ...  6  2  4]\n",
      "  [ 5  7  4 ...  6  5 10]\n",
      "  [ 8  2 10 ...  7  9  6]]\n",
      "\n",
      " [[10  4  7 ...  7  1  4]\n",
      "  [ 2  1  5 ...  7  3  7]\n",
      "  [ 9  8  3 ...  3  5  6]\n",
      "  ...\n",
      "  [ 2  5 10 ...  9 10  2]\n",
      "  [10  8  9 ...  7  7  2]\n",
      "  [ 1  8  1 ...  4  1  8]]]\n"
     ]
    }
   ],
   "source": [
    "%timeit -n 10 a = 2\n",
    "\n",
    "Z2=[]\n",
    "for d in np.nditer(Z):\n",
    "    Z2.append(d+1)\n",
    "\n",
    "print(np.array(Z2).reshape(100,100,100))"
   ]
  },
  {
   "cell_type": "markdown",
   "metadata": {},
   "source": [
    "### 2. 如何從一個陣列中，找出出現頻率最高的數值與位置？\n"
   ]
  },
  {
   "cell_type": "code",
   "execution_count": 22,
   "metadata": {
    "colab": {},
    "colab_type": "code",
    "id": "e1gVI0tvsvFY"
   },
   "outputs": [
    {
     "name": "stdout",
     "output_type": "stream",
     "text": [
      "[7 9 5 5 4 0 1 9 0 6 2 7 7 3 1 3 6 5 5 2 2 7 5 5 1 0 3 1 9 5 8 0 9 0 9 1 1\n",
      " 4 5 9 3 2 0 2 3 3 8 3 6 0]\n"
     ]
    }
   ],
   "source": [
    "\n",
    "Z = np.random.randint(0,10,50)\n",
    "print(Z)\n"
   ]
  },
  {
   "cell_type": "code",
   "execution_count": 23,
   "metadata": {},
   "outputs": [
    {
     "name": "stdout",
     "output_type": "stream",
     "text": [
      "5\n"
     ]
    }
   ],
   "source": [
    "d = np.argmax(np.bincount(Z))\n",
    "print(d)"
   ]
  },
  {
   "cell_type": "code",
   "execution_count": 24,
   "metadata": {},
   "outputs": [
    {
     "name": "stdout",
     "output_type": "stream",
     "text": [
      "(array([ 2,  3, 17, 18, 22, 23, 29, 38], dtype=int64),)\n"
     ]
    }
   ],
   "source": [
    "print(np.where(Z==d))"
   ]
  },
  {
   "cell_type": "markdown",
   "metadata": {},
   "source": [
    "### 3. 如何利用 list(...) 實現 a.tolist() 的效果？試著用程式實作。\n"
   ]
  },
  {
   "cell_type": "code",
   "execution_count": 26,
   "metadata": {},
   "outputs": [
    {
     "name": "stdout",
     "output_type": "stream",
     "text": [
      "[3, 6, 5, 7, 3, 1]\n",
      "[3, 6, 5, 7, 3, 1]\n",
      "[[8, 9, 4, 7], [5, 4, 8, 6], [0, 3, 8, 6]]\n",
      "[array([8, 9, 4, 7]), array([5, 4, 8, 6]), array([0, 3, 8, 6])]\n",
      "[[[5, 4], [7, 5], [5, 6]], [[9, 3], [5, 1], [7, 7]]]\n",
      "[array([[5, 4],\n",
      "       [7, 5],\n",
      "       [5, 6]]), array([[9, 3],\n",
      "       [5, 1],\n",
      "       [7, 7]])]\n"
     ]
    }
   ],
   "source": [
    "a = np.random.randint(10, size=6) \n",
    "\n",
    "print(a.tolist())\n",
    "print(list(a))\n",
    "\n",
    "\n",
    "b = np.random.randint(10, size=(3,4)) \n",
    "\n",
    "print(b.tolist())\n",
    "print(list(b))\n",
    "\n",
    "\n",
    "c = np.random.randint(10, size=(2,3,2)) \n",
    "\n",
    "print(c.tolist())\n",
    "print(list(c))\n",
    "\n",
    "\n"
   ]
  },
  {
   "cell_type": "code",
   "execution_count": 27,
   "metadata": {},
   "outputs": [
    {
     "name": "stdout",
     "output_type": "stream",
     "text": [
      "[3, 6, 5, 7, 3, 1]\n",
      "[[8, 9, 4, 7], [5, 4, 8, 6], [0, 3, 8, 6]]\n",
      "[[[5, 4], [7, 5], [5, 6]], [[9, 3], [5, 1], [7, 7]]]\n"
     ]
    }
   ],
   "source": [
    "def tolist(iterable):\n",
    "    list1=[]\n",
    "    if iterable.ndim==1:\n",
    "        return list(iterable)\n",
    "    else :\n",
    "        for i in iterable:\n",
    "            list1.append(tolist(i))\n",
    "            \n",
    "    return list1\n",
    "            \n",
    "        \n",
    "    '''\n",
    "    Your Code\n",
    "    '''\n",
    "\n",
    "print(tolist(a))\n",
    "print(tolist(b))\n",
    "print(tolist(c))"
   ]
  },
  {
   "cell_type": "code",
   "execution_count": null,
   "metadata": {},
   "outputs": [],
   "source": []
  }
 ],
 "metadata": {
  "colab": {
   "name": "Day_023_HW.ipynb",
   "provenance": []
  },
  "kernelspec": {
   "display_name": "Python 3",
   "language": "python",
   "name": "python3"
  },
  "language_info": {
   "codemirror_mode": {
    "name": "ipython",
    "version": 3
   },
   "file_extension": ".py",
   "mimetype": "text/x-python",
   "name": "python",
   "nbconvert_exporter": "python",
   "pygments_lexer": "ipython3",
   "version": "3.8.8"
  }
 },
 "nbformat": 4,
 "nbformat_minor": 1
}
